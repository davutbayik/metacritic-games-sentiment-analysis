{
 "cells": [
  {
   "cell_type": "markdown",
   "id": "be4b9671",
   "metadata": {},
   "source": [
    "- Import necessary libraries"
   ]
  },
  {
   "cell_type": "code",
   "execution_count": null,
   "id": "d25d4f8c",
   "metadata": {},
   "outputs": [],
   "source": [
    "import os\n",
    "import pandas as pd\n",
    "import nltk\n",
    "import torch\n",
    "from sklearn.model_selection import train_test_split\n",
    "from transformers import BertTokenizer, BertForSequenceClassification, Trainer, TrainingArguments, DataCollatorWithPadding, TextClassificationPipeline\n",
    "import nltk\n",
    "from nltk.corpus import stopwords\n",
    "import string\n",
    "import langid\n",
    "from datasets import Dataset\n",
    "import kagglehub\n",
    "import warnings\n",
    "warnings.filterwarnings(\"ignore\")\n",
    "\n",
    "# Create data and model folders\n",
    "os.makedirs(\"data\", exist_ok=True)\n",
    "os.makedirs(\"model\", exist_ok=True)"
   ]
  },
  {
   "cell_type": "markdown",
   "id": "c5afda1c",
   "metadata": {},
   "source": [
    "### 1) Data Reading and Cleaning"
   ]
  },
  {
   "cell_type": "markdown",
   "id": "7892a8ac",
   "metadata": {},
   "source": [
    "- Dataset path -> https://www.kaggle.com/datasets/davutb/metacritic-games\n",
    "- Metacritic Scraper GitHub repository -> https://github.com/davutbayik/metacritic-backend-scraper"
   ]
  },
  {
   "cell_type": "code",
   "execution_count": null,
   "id": "a5e22c0c",
   "metadata": {},
   "outputs": [
    {
     "data": {
      "text/html": [
       "<div>\n",
       "<style scoped>\n",
       "    .dataframe tbody tr th:only-of-type {\n",
       "        vertical-align: middle;\n",
       "    }\n",
       "\n",
       "    .dataframe tbody tr th {\n",
       "        vertical-align: top;\n",
       "    }\n",
       "\n",
       "    .dataframe thead th {\n",
       "        text-align: right;\n",
       "    }\n",
       "</style>\n",
       "<table border=\"1\" class=\"dataframe\">\n",
       "  <thead>\n",
       "    <tr style=\"text-align: right;\">\n",
       "      <th></th>\n",
       "      <th>id</th>\n",
       "      <th>title</th>\n",
       "      <th>quote</th>\n",
       "      <th>score</th>\n",
       "      <th>date</th>\n",
       "      <th>platform</th>\n",
       "      <th>author</th>\n",
       "      <th>publicationName</th>\n",
       "      <th>review_type</th>\n",
       "    </tr>\n",
       "  </thead>\n",
       "  <tbody>\n",
       "    <tr>\n",
       "      <th>121898</th>\n",
       "      <td>1300462907</td>\n",
       "      <td>The Last of Us Part II</td>\n",
       "      <td>The best game I have ever played. To be honest...</td>\n",
       "      <td>100.0</td>\n",
       "      <td>2020-07-03</td>\n",
       "      <td>PlayStation 4</td>\n",
       "      <td>Sreyaskandhan</td>\n",
       "      <td>NaN</td>\n",
       "      <td>user</td>\n",
       "    </tr>\n",
       "    <tr>\n",
       "      <th>1476957</th>\n",
       "      <td>1300494391</td>\n",
       "      <td>Panzer Dragoon</td>\n",
       "      <td>Phenomenal package. Beautiful presentation thr...</td>\n",
       "      <td>100.0</td>\n",
       "      <td>2020-10-02</td>\n",
       "      <td>PC</td>\n",
       "      <td>Dingo__</td>\n",
       "      <td>NaN</td>\n",
       "      <td>user</td>\n",
       "    </tr>\n",
       "    <tr>\n",
       "      <th>1493024</th>\n",
       "      <td>1300246095</td>\n",
       "      <td>Goat Simulator</td>\n",
       "      <td>Great fun, especially with friends, Goat Simul...</td>\n",
       "      <td>80.0</td>\n",
       "      <td>2015-08-20</td>\n",
       "      <td>PlayStation 4</td>\n",
       "      <td>NaN</td>\n",
       "      <td>PlayStation Universe</td>\n",
       "      <td>critic</td>\n",
       "    </tr>\n",
       "    <tr>\n",
       "      <th>890</th>\n",
       "      <td>1300001290</td>\n",
       "      <td>The Legend of Zelda: Ocarina of Time</td>\n",
       "      <td>What can be said about this game that has not ...</td>\n",
       "      <td>100.0</td>\n",
       "      <td>2015-08-10</td>\n",
       "      <td>Nintendo 64</td>\n",
       "      <td>harhas97</td>\n",
       "      <td>NaN</td>\n",
       "      <td>user</td>\n",
       "    </tr>\n",
       "    <tr>\n",
       "      <th>64401</th>\n",
       "      <td>1300502074</td>\n",
       "      <td>The Legend of Zelda: Tears of the Kingdom</td>\n",
       "      <td>Tears of the Kingdom 10/10, Metacritic 1/10. I...</td>\n",
       "      <td>100.0</td>\n",
       "      <td>2023-05-20</td>\n",
       "      <td>Nintendo Switch</td>\n",
       "      <td>FuriousGeorge</td>\n",
       "      <td>NaN</td>\n",
       "      <td>user</td>\n",
       "    </tr>\n",
       "  </tbody>\n",
       "</table>\n",
       "</div>"
      ],
      "text/plain": [
       "                 id                                      title  \\\n",
       "121898   1300462907                     The Last of Us Part II   \n",
       "1476957  1300494391                             Panzer Dragoon   \n",
       "1493024  1300246095                             Goat Simulator   \n",
       "890      1300001290       The Legend of Zelda: Ocarina of Time   \n",
       "64401    1300502074  The Legend of Zelda: Tears of the Kingdom   \n",
       "\n",
       "                                                     quote  score        date  \\\n",
       "121898   The best game I have ever played. To be honest...  100.0  2020-07-03   \n",
       "1476957  Phenomenal package. Beautiful presentation thr...  100.0  2020-10-02   \n",
       "1493024  Great fun, especially with friends, Goat Simul...   80.0  2015-08-20   \n",
       "890      What can be said about this game that has not ...  100.0  2015-08-10   \n",
       "64401    Tears of the Kingdom 10/10, Metacritic 1/10. I...  100.0  2023-05-20   \n",
       "\n",
       "                platform         author       publicationName review_type  \n",
       "121898     PlayStation 4  Sreyaskandhan                   NaN        user  \n",
       "1476957               PC        Dingo__                   NaN        user  \n",
       "1493024    PlayStation 4            NaN  PlayStation Universe      critic  \n",
       "890          Nintendo 64       harhas97                   NaN        user  \n",
       "64401    Nintendo Switch  FuriousGeorge                   NaN        user  "
      ]
     },
     "execution_count": 3,
     "metadata": {},
     "output_type": "execute_result"
    }
   ],
   "source": [
    "# Download the dataset from kaggle using kagglehub\n",
    "path = kagglehub.dataset_download(\"davutb/metacritic-games\")\n",
    "\n",
    "print(\"Path to dataset files:\", path)\n",
    "\n",
    "df_path = os.path.join(path, \"games_reviews.csv\")\n",
    "games_reviews = pd.read_csv(df_path)\n",
    "\n",
    "games_reviews.sample(5)"
   ]
  },
  {
   "cell_type": "code",
   "execution_count": null,
   "id": "433e146a",
   "metadata": {},
   "outputs": [
    {
     "data": {
      "text/plain": [
       "id                       0\n",
       "title                    0\n",
       "quote                  146\n",
       "score                 7196\n",
       "date                204108\n",
       "platform                 0\n",
       "author              524362\n",
       "publicationName    1131692\n",
       "review_type              0\n",
       "dtype: int64"
      ]
     },
     "execution_count": 4,
     "metadata": {},
     "output_type": "execute_result"
    }
   ],
   "source": [
    "# Check null value numbers\n",
    "# We can drop reviews with no review text or review score if NaN number is low.\n",
    "games_reviews.isna().sum()"
   ]
  },
  {
   "cell_type": "code",
   "execution_count": null,
   "id": "597ade8c",
   "metadata": {},
   "outputs": [],
   "source": [
    "# Delete reviews without text or score\n",
    "games_reviews.drop(games_reviews[pd.isna(games_reviews[\"quote\"]) | pd.isna(games_reviews[\"score\"])].index, axis=0, inplace=True)"
   ]
  },
  {
   "cell_type": "code",
   "execution_count": null,
   "id": "077d94ac",
   "metadata": {},
   "outputs": [],
   "source": [
    "# Detect each reviews language using langid library and select English reviews\n",
    "games_reviews.loc[:, 'language'] = games_reviews.loc[:, 'quote'].apply(lambda x: langid.classify(x)[0])\n",
    "games_reviews = games_reviews.query(\"language == 'en'\")"
   ]
  },
  {
   "cell_type": "code",
   "execution_count": null,
   "id": "fcd7d1fe",
   "metadata": {},
   "outputs": [],
   "source": [
    "# Label sentiments from scores for training the dataset\n",
    "def get_sentiment(score):\n",
    "    try:\n",
    "        score = float(score)\n",
    "        if score >= 70:\n",
    "            return 2  # Positive\n",
    "        elif score <= 40:\n",
    "            return 0  # Negative\n",
    "        else:\n",
    "            return 1  # Neutral\n",
    "    except:\n",
    "        return 1\n",
    "\n",
    "games_reviews.loc[:, 'labels'] = games_reviews.loc[:, 'score'].apply(get_sentiment)"
   ]
  },
  {
   "cell_type": "code",
   "execution_count": 4,
   "id": "2f9399e3",
   "metadata": {},
   "outputs": [
    {
     "name": "stderr",
     "output_type": "stream",
     "text": [
      "[nltk_data] Downloading package punkt to\n",
      "[nltk_data]     C:\\Users\\davut\\AppData\\Roaming\\nltk_data...\n",
      "[nltk_data]   Package punkt is already up-to-date!\n",
      "[nltk_data] Downloading package punkt_tab to\n",
      "[nltk_data]     C:\\Users\\davut\\AppData\\Roaming\\nltk_data...\n",
      "[nltk_data]   Package punkt_tab is already up-to-date!\n",
      "[nltk_data] Downloading package stopwords to\n",
      "[nltk_data]     C:\\Users\\davut\\AppData\\Roaming\\nltk_data...\n",
      "[nltk_data]   Package stopwords is already up-to-date!\n"
     ]
    }
   ],
   "source": [
    "# Preprocessing using nltk library\n",
    "# Removing stopwords, punctuation, whitespace characters and converting lowercase\n",
    "\n",
    "nltk.download('punkt')\n",
    "nltk.download('punkt_tab')\n",
    "nltk.download('stopwords')\n",
    "\n",
    "stop_words = set(stopwords.words('english'))\n",
    "\n",
    "def clean_text(text):\n",
    "    tokens = nltk.word_tokenize(str(text).lower().strip())\n",
    "    tokens = [t for t in tokens if t not in string.punctuation and t not in stop_words]\n",
    "    return \" \".join(tokens)\n",
    "\n",
    "games_reviews['quote_cleaned'] = games_reviews['quote'].apply(clean_text)"
   ]
  },
  {
   "cell_type": "code",
   "execution_count": 5,
   "id": "4d71b39b",
   "metadata": {},
   "outputs": [],
   "source": [
    "# Delete null reviews if any occured after cleaning the dataset \n",
    "games_reviews.drop(games_reviews[pd.isna(games_reviews[\"quote_cleaned\"])].index, axis=0, inplace=True)"
   ]
  },
  {
   "cell_type": "markdown",
   "id": "77585bb6",
   "metadata": {},
   "source": [
    "### 2) Fine Tuning the Dataset"
   ]
  },
  {
   "cell_type": "code",
   "execution_count": 7,
   "id": "f8356dcf",
   "metadata": {},
   "outputs": [],
   "source": [
    "# Train-test split\n",
    "train_df, test_df = train_test_split(games_reviews[['quote_cleaned', 'labels']], test_size=0.25, shuffle=True, random_state=33)"
   ]
  },
  {
   "cell_type": "markdown",
   "id": "0a7c016e",
   "metadata": {},
   "source": [
    "- Use a pre-trained BERT model. In terms of efficiency, I will use smaller BERT-medium model rather than base models.\n",
    "\t- Even smaller models like BERT-small or BERT-tiny models can be used and performed well.\n",
    "- Source of the BERT-medium model --> https://huggingface.co/prajjwal1/bert-medium"
   ]
  },
  {
   "cell_type": "code",
   "execution_count": null,
   "id": "d005a1c0",
   "metadata": {},
   "outputs": [],
   "source": [
    "# Tokenize with a pre-trained BERT model\n",
    "\n",
    "#tokenizer = BertTokenizer.from_pretrained('prajjwal1/bert-tiny', model_max_length=512)\n",
    "#tokenizer = BertTokenizer.from_pretrained('prajjwal1/bert-small', model_max_length=512)\n",
    "tokenizer = BertTokenizer.from_pretrained('prajjwal1/bert-medium', model_max_length=512)"
   ]
  },
  {
   "cell_type": "code",
   "execution_count": 9,
   "id": "240eb36a",
   "metadata": {},
   "outputs": [],
   "source": [
    "# Create train and test datasets using huggingface's Dataset module\n",
    "train_dataset = Dataset.from_pandas(train_df.rename(columns={'quote_cleaned': 'text'}))\n",
    "test_dataset = Dataset.from_pandas(test_df.rename(columns={'quote_cleaned': 'text'}))"
   ]
  },
  {
   "cell_type": "code",
   "execution_count": 10,
   "id": "8d5722b1",
   "metadata": {},
   "outputs": [
    {
     "data": {
      "application/vnd.jupyter.widget-view+json": {
       "model_id": "504a32511a024b77966d3e2b8ed323a1",
       "version_major": 2,
       "version_minor": 0
      },
      "text/plain": [
       "Map:   0%|          | 0/1114912 [00:00<?, ? examples/s]"
      ]
     },
     "metadata": {},
     "output_type": "display_data"
    },
    {
     "data": {
      "application/vnd.jupyter.widget-view+json": {
       "model_id": "c335c2eba2504cc183620be9a7db818b",
       "version_major": 2,
       "version_minor": 0
      },
      "text/plain": [
       "Map:   0%|          | 0/371638 [00:00<?, ? examples/s]"
      ]
     },
     "metadata": {},
     "output_type": "display_data"
    }
   ],
   "source": [
    "# Tokenize the train and test datasets\n",
    "def tokenize_function(examples):\n",
    "    return tokenizer(examples['text'], truncation=True)\n",
    "\n",
    "train_df = train_dataset.map(tokenize_function, batched=True)\n",
    "test_df = test_dataset.map(tokenize_function, batched=True)"
   ]
  },
  {
   "cell_type": "code",
   "execution_count": null,
   "id": "53c7d982",
   "metadata": {},
   "outputs": [
    {
     "data": {
      "application/vnd.jupyter.widget-view+json": {
       "model_id": "612357b99f9b402599f415f7d973fa0b",
       "version_major": 2,
       "version_minor": 0
      },
      "text/plain": [
       "Saving the dataset (0/2 shards):   0%|          | 0/1114912 [00:00<?, ? examples/s]"
      ]
     },
     "metadata": {},
     "output_type": "display_data"
    },
    {
     "data": {
      "application/vnd.jupyter.widget-view+json": {
       "model_id": "659d4af2016049b3b28d67a0aff6f509",
       "version_major": 2,
       "version_minor": 0
      },
      "text/plain": [
       "Saving the dataset (0/1 shards):   0%|          | 0/371638 [00:00<?, ? examples/s]"
      ]
     },
     "metadata": {},
     "output_type": "display_data"
    }
   ],
   "source": [
    "# Save tokenized datasets\n",
    "train_df.save_to_disk(\"data/train_dataset_tokenized\")\n",
    "test_df.save_to_disk(\"data/test_dataset_tokenized\")"
   ]
  },
  {
   "cell_type": "markdown",
   "id": "06519874",
   "metadata": {},
   "source": [
    "- GPU usage for fine-tuning a pre-trained BERT model is highly recommended otherwise the training would be extremely slow"
   ]
  },
  {
   "cell_type": "code",
   "execution_count": null,
   "id": "10a99174",
   "metadata": {},
   "outputs": [
    {
     "name": "stderr",
     "output_type": "stream",
     "text": [
      "Some weights of BertForSequenceClassification were not initialized from the model checkpoint at prajjwal1/bert-medium and are newly initialized: ['classifier.bias', 'classifier.weight']\n",
      "You should probably TRAIN this model on a down-stream task to be able to use it for predictions and inference.\n"
     ]
    },
    {
     "data": {
      "text/plain": [
       "BertForSequenceClassification(\n",
       "  (bert): BertModel(\n",
       "    (embeddings): BertEmbeddings(\n",
       "      (word_embeddings): Embedding(30522, 512, padding_idx=0)\n",
       "      (position_embeddings): Embedding(512, 512)\n",
       "      (token_type_embeddings): Embedding(2, 512)\n",
       "      (LayerNorm): LayerNorm((512,), eps=1e-12, elementwise_affine=True)\n",
       "      (dropout): Dropout(p=0.1, inplace=False)\n",
       "    )\n",
       "    (encoder): BertEncoder(\n",
       "      (layer): ModuleList(\n",
       "        (0-7): 8 x BertLayer(\n",
       "          (attention): BertAttention(\n",
       "            (self): BertSelfAttention(\n",
       "              (query): Linear(in_features=512, out_features=512, bias=True)\n",
       "              (key): Linear(in_features=512, out_features=512, bias=True)\n",
       "              (value): Linear(in_features=512, out_features=512, bias=True)\n",
       "              (dropout): Dropout(p=0.1, inplace=False)\n",
       "            )\n",
       "            (output): BertSelfOutput(\n",
       "              (dense): Linear(in_features=512, out_features=512, bias=True)\n",
       "              (LayerNorm): LayerNorm((512,), eps=1e-12, elementwise_affine=True)\n",
       "              (dropout): Dropout(p=0.1, inplace=False)\n",
       "            )\n",
       "          )\n",
       "          (intermediate): BertIntermediate(\n",
       "            (dense): Linear(in_features=512, out_features=2048, bias=True)\n",
       "            (intermediate_act_fn): GELUActivation()\n",
       "          )\n",
       "          (output): BertOutput(\n",
       "            (dense): Linear(in_features=2048, out_features=512, bias=True)\n",
       "            (LayerNorm): LayerNorm((512,), eps=1e-12, elementwise_affine=True)\n",
       "            (dropout): Dropout(p=0.1, inplace=False)\n",
       "          )\n",
       "        )\n",
       "      )\n",
       "    )\n",
       "    (pooler): BertPooler(\n",
       "      (dense): Linear(in_features=512, out_features=512, bias=True)\n",
       "      (activation): Tanh()\n",
       "    )\n",
       "  )\n",
       "  (dropout): Dropout(p=0.1, inplace=False)\n",
       "  (classifier): Linear(in_features=512, out_features=3, bias=True)\n",
       ")"
      ]
     },
     "execution_count": 12,
     "metadata": {},
     "output_type": "execute_result"
    }
   ],
   "source": [
    "# Load a pre-trained BERT model\n",
    "\n",
    "#model = BertForSequenceClassification.from_pretrained('prajjwal1/bert-tiny', num_labels=3)\n",
    "#model = BertForSequenceClassification.from_pretrained('prajjwal1/bert-small', num_labels=3)\n",
    "model = BertForSequenceClassification.from_pretrained('prajjwal1/bert-medium', num_labels=3)\n",
    "\n",
    "# Use GPU to train the model if you have a GPU\n",
    "model.to(torch.device('cuda'))"
   ]
  },
  {
   "cell_type": "markdown",
   "id": "098cc50f",
   "metadata": {},
   "source": [
    "- Fine-Tune the model by training it with our data"
   ]
  },
  {
   "cell_type": "code",
   "execution_count": null,
   "id": "09ef0069",
   "metadata": {},
   "outputs": [
    {
     "data": {
      "application/vnd.jupyter.widget-view+json": {
       "model_id": "4e10159447db49dd8eac19ef3f7aee38",
       "version_major": 2,
       "version_minor": 0
      },
      "text/plain": [
       "  0%|          | 0/209046 [00:00<?, ?it/s]"
      ]
     },
     "metadata": {},
     "output_type": "display_data"
    },
    {
     "name": "stdout",
     "output_type": "stream",
     "text": [
      "{'loss': 0.365, 'grad_norm': 17.553478240966797, 'learning_rate': 1.9904327277249983e-05, 'epoch': 0.01}\n",
      "{'loss': 0.5117, 'grad_norm': 10.742671966552734, 'learning_rate': 1.9808654554499968e-05, 'epoch': 0.03}\n",
      "{'loss': 0.4983, 'grad_norm': 9.66846752166748, 'learning_rate': 1.9712981831749953e-05, 'epoch': 0.04}\n",
      "{'loss': 0.4773, 'grad_norm': 5.602819442749023, 'learning_rate': 1.9617309108999934e-05, 'epoch': 0.06}\n",
      "{'loss': 0.4794, 'grad_norm': 5.983526229858398, 'learning_rate': 1.952163638624992e-05, 'epoch': 0.07}\n",
      "{'loss': 0.4745, 'grad_norm': 5.697776794433594, 'learning_rate': 1.94259636634999e-05, 'epoch': 0.09}\n",
      "{'loss': 0.4549, 'grad_norm': 8.533885955810547, 'learning_rate': 1.9330290940749885e-05, 'epoch': 0.1}\n",
      "{'loss': 0.4599, 'grad_norm': 4.551764011383057, 'learning_rate': 1.9234618217999866e-05, 'epoch': 0.11}\n",
      "{'loss': 0.4425, 'grad_norm': 6.059841156005859, 'learning_rate': 1.913894549524985e-05, 'epoch': 0.13}\n",
      "{'loss': 0.4543, 'grad_norm': 13.799579620361328, 'learning_rate': 1.9043272772499836e-05, 'epoch': 0.14}\n",
      "{'loss': 0.4441, 'grad_norm': 8.713188171386719, 'learning_rate': 1.8947600049749817e-05, 'epoch': 0.16}\n",
      "{'loss': 0.4531, 'grad_norm': 9.028658866882324, 'learning_rate': 1.8851927326999802e-05, 'epoch': 0.17}\n",
      "{'loss': 0.4346, 'grad_norm': 14.629124641418457, 'learning_rate': 1.8756254604249784e-05, 'epoch': 0.19}\n",
      "{'loss': 0.436, 'grad_norm': 4.075550079345703, 'learning_rate': 1.8660581881499765e-05, 'epoch': 0.2}\n",
      "{'loss': 0.4266, 'grad_norm': 4.455249786376953, 'learning_rate': 1.856490915874975e-05, 'epoch': 0.22}\n",
      "{'loss': 0.4271, 'grad_norm': 8.803498268127441, 'learning_rate': 1.8469236435999735e-05, 'epoch': 0.23}\n",
      "{'loss': 0.4279, 'grad_norm': 5.475800514221191, 'learning_rate': 1.8373563713249716e-05, 'epoch': 0.24}\n",
      "{'loss': 0.4261, 'grad_norm': 7.657081127166748, 'learning_rate': 1.82778909904997e-05, 'epoch': 0.26}\n",
      "{'loss': 0.4253, 'grad_norm': 6.967255115509033, 'learning_rate': 1.8182218267749682e-05, 'epoch': 0.27}\n",
      "{'loss': 0.4164, 'grad_norm': 4.502017021179199, 'learning_rate': 1.8086545544999667e-05, 'epoch': 0.29}\n",
      "{'loss': 0.4237, 'grad_norm': 4.355477333068848, 'learning_rate': 1.799087282224965e-05, 'epoch': 0.3}\n",
      "{'loss': 0.4249, 'grad_norm': 5.062473773956299, 'learning_rate': 1.7895200099499633e-05, 'epoch': 0.32}\n",
      "{'loss': 0.424, 'grad_norm': 8.665392875671387, 'learning_rate': 1.7799527376749618e-05, 'epoch': 0.33}\n",
      "{'loss': 0.4191, 'grad_norm': 4.898735046386719, 'learning_rate': 1.77038546539996e-05, 'epoch': 0.34}\n",
      "{'loss': 0.4236, 'grad_norm': 5.436809539794922, 'learning_rate': 1.7608181931249584e-05, 'epoch': 0.36}\n",
      "{'loss': 0.4147, 'grad_norm': 11.15953540802002, 'learning_rate': 1.7512509208499566e-05, 'epoch': 0.37}\n",
      "{'loss': 0.4061, 'grad_norm': 7.760666847229004, 'learning_rate': 1.7416836485749547e-05, 'epoch': 0.39}\n",
      "{'loss': 0.4188, 'grad_norm': 9.400433540344238, 'learning_rate': 1.7321163762999532e-05, 'epoch': 0.4}\n",
      "{'loss': 0.4177, 'grad_norm': 5.126397132873535, 'learning_rate': 1.7225491040249517e-05, 'epoch': 0.42}\n",
      "{'loss': 0.4176, 'grad_norm': 5.982886791229248, 'learning_rate': 1.7129818317499498e-05, 'epoch': 0.43}\n",
      "{'loss': 0.4083, 'grad_norm': 5.9033002853393555, 'learning_rate': 1.7034145594749483e-05, 'epoch': 0.44}\n",
      "{'loss': 0.4243, 'grad_norm': 3.614006519317627, 'learning_rate': 1.6938472871999464e-05, 'epoch': 0.46}\n",
      "{'loss': 0.4084, 'grad_norm': 5.801401138305664, 'learning_rate': 1.684280014924945e-05, 'epoch': 0.47}\n",
      "{'loss': 0.4184, 'grad_norm': 5.174493312835693, 'learning_rate': 1.6747127426499434e-05, 'epoch': 0.49}\n",
      "{'loss': 0.414, 'grad_norm': 7.723559856414795, 'learning_rate': 1.6651454703749415e-05, 'epoch': 0.5}\n",
      "{'loss': 0.4077, 'grad_norm': 5.151395320892334, 'learning_rate': 1.65557819809994e-05, 'epoch': 0.52}\n",
      "{'loss': 0.4094, 'grad_norm': 11.583312034606934, 'learning_rate': 1.646010925824938e-05, 'epoch': 0.53}\n",
      "{'loss': 0.4095, 'grad_norm': 3.09623384475708, 'learning_rate': 1.6364436535499366e-05, 'epoch': 0.55}\n",
      "{'loss': 0.4047, 'grad_norm': 1.9450207948684692, 'learning_rate': 1.6268763812749348e-05, 'epoch': 0.56}\n",
      "{'loss': 0.4065, 'grad_norm': 10.268280029296875, 'learning_rate': 1.6173091089999332e-05, 'epoch': 0.57}\n",
      "{'loss': 0.3989, 'grad_norm': 5.961850166320801, 'learning_rate': 1.6077418367249317e-05, 'epoch': 0.59}\n",
      "{'loss': 0.4024, 'grad_norm': 4.899809837341309, 'learning_rate': 1.59817456444993e-05, 'epoch': 0.6}\n",
      "{'loss': 0.4038, 'grad_norm': 6.518227577209473, 'learning_rate': 1.588607292174928e-05, 'epoch': 0.62}\n",
      "{'loss': 0.4036, 'grad_norm': 13.358924865722656, 'learning_rate': 1.5790400198999265e-05, 'epoch': 0.63}\n",
      "{'loss': 0.4041, 'grad_norm': 5.108647346496582, 'learning_rate': 1.5694727476249246e-05, 'epoch': 0.65}\n",
      "{'loss': 0.4121, 'grad_norm': 2.6537466049194336, 'learning_rate': 1.559905475349923e-05, 'epoch': 0.66}\n",
      "{'loss': 0.4096, 'grad_norm': 4.8020195960998535, 'learning_rate': 1.5503382030749216e-05, 'epoch': 0.67}\n",
      "{'loss': 0.3952, 'grad_norm': 2.813864231109619, 'learning_rate': 1.5407709307999197e-05, 'epoch': 0.69}\n",
      "{'loss': 0.3895, 'grad_norm': 8.362271308898926, 'learning_rate': 1.5312036585249182e-05, 'epoch': 0.7}\n",
      "{'loss': 0.4054, 'grad_norm': 4.645059108734131, 'learning_rate': 1.5216363862499163e-05, 'epoch': 0.72}\n",
      "{'loss': 0.3953, 'grad_norm': 8.414243698120117, 'learning_rate': 1.5120691139749147e-05, 'epoch': 0.73}\n",
      "{'loss': 0.3967, 'grad_norm': 5.258642673492432, 'learning_rate': 1.5025018416999131e-05, 'epoch': 0.75}\n",
      "{'loss': 0.4053, 'grad_norm': 6.1006879806518555, 'learning_rate': 1.4929345694249113e-05, 'epoch': 0.76}\n",
      "{'loss': 0.3974, 'grad_norm': 3.5477218627929688, 'learning_rate': 1.4833672971499097e-05, 'epoch': 0.77}\n",
      "{'loss': 0.3998, 'grad_norm': 4.184652805328369, 'learning_rate': 1.473800024874908e-05, 'epoch': 0.79}\n",
      "{'loss': 0.3883, 'grad_norm': 9.353647232055664, 'learning_rate': 1.4642327525999062e-05, 'epoch': 0.8}\n",
      "{'loss': 0.3956, 'grad_norm': 10.523456573486328, 'learning_rate': 1.4546654803249047e-05, 'epoch': 0.82}\n",
      "{'loss': 0.3937, 'grad_norm': 4.923828125, 'learning_rate': 1.445098208049903e-05, 'epoch': 0.83}\n",
      "{'loss': 0.3944, 'grad_norm': 5.218758583068848, 'learning_rate': 1.4355309357749015e-05, 'epoch': 0.85}\n",
      "{'loss': 0.3938, 'grad_norm': 5.274167537689209, 'learning_rate': 1.4259636634998996e-05, 'epoch': 0.86}\n",
      "{'loss': 0.3957, 'grad_norm': 9.95703125, 'learning_rate': 1.416396391224898e-05, 'epoch': 0.88}\n",
      "{'loss': 0.3918, 'grad_norm': 10.488612174987793, 'learning_rate': 1.4068291189498964e-05, 'epoch': 0.89}\n",
      "{'loss': 0.3919, 'grad_norm': 6.190999507904053, 'learning_rate': 1.3972618466748945e-05, 'epoch': 0.9}\n",
      "{'loss': 0.3948, 'grad_norm': 2.676316738128662, 'learning_rate': 1.3876945743998928e-05, 'epoch': 0.92}\n",
      "{'loss': 0.3947, 'grad_norm': 4.33136510848999, 'learning_rate': 1.3781273021248913e-05, 'epoch': 0.93}\n",
      "{'loss': 0.3874, 'grad_norm': 2.3796768188476562, 'learning_rate': 1.3685600298498896e-05, 'epoch': 0.95}\n",
      "{'loss': 0.3912, 'grad_norm': 4.119622230529785, 'learning_rate': 1.358992757574888e-05, 'epoch': 0.96}\n",
      "{'loss': 0.3943, 'grad_norm': 9.048295974731445, 'learning_rate': 1.3494254852998863e-05, 'epoch': 0.98}\n",
      "{'loss': 0.3857, 'grad_norm': 8.831939697265625, 'learning_rate': 1.3398582130248846e-05, 'epoch': 0.99}\n"
     ]
    },
    {
     "data": {
      "application/vnd.jupyter.widget-view+json": {
       "model_id": "5a18e19444d447059af0adbec92f1d51",
       "version_major": 2,
       "version_minor": 0
      },
      "text/plain": [
       "  0%|          | 0/23228 [00:00<?, ?it/s]"
      ]
     },
     "metadata": {},
     "output_type": "display_data"
    },
    {
     "name": "stdout",
     "output_type": "stream",
     "text": [
      "{'eval_loss': 0.38431647419929504, 'eval_runtime': 653.0775, 'eval_samples_per_second': 569.057, 'eval_steps_per_second': 35.567, 'epoch': 1.0}\n",
      "{'loss': 0.3837, 'grad_norm': 5.588892459869385, 'learning_rate': 1.330290940749883e-05, 'epoch': 1.0}\n",
      "{'loss': 0.3682, 'grad_norm': 4.151134490966797, 'learning_rate': 1.3207236684748812e-05, 'epoch': 1.02}\n",
      "{'loss': 0.361, 'grad_norm': 1.975178599357605, 'learning_rate': 1.3111563961998797e-05, 'epoch': 1.03}\n",
      "{'loss': 0.3647, 'grad_norm': 5.2469868659973145, 'learning_rate': 1.301589123924878e-05, 'epoch': 1.05}\n",
      "{'loss': 0.3685, 'grad_norm': 3.095139980316162, 'learning_rate': 1.2920218516498761e-05, 'epoch': 1.06}\n",
      "{'loss': 0.363, 'grad_norm': 3.0231447219848633, 'learning_rate': 1.2824545793748746e-05, 'epoch': 1.08}\n",
      "{'loss': 0.3591, 'grad_norm': 7.342517375946045, 'learning_rate': 1.2728873070998729e-05, 'epoch': 1.09}\n",
      "{'loss': 0.3668, 'grad_norm': 6.121874809265137, 'learning_rate': 1.263320034824871e-05, 'epoch': 1.11}\n",
      "{'loss': 0.3696, 'grad_norm': 2.2753231525421143, 'learning_rate': 1.2537527625498695e-05, 'epoch': 1.12}\n",
      "{'loss': 0.3589, 'grad_norm': 5.449084758758545, 'learning_rate': 1.2441854902748678e-05, 'epoch': 1.13}\n",
      "{'loss': 0.3656, 'grad_norm': 10.063501358032227, 'learning_rate': 1.2346182179998663e-05, 'epoch': 1.15}\n",
      "{'loss': 0.3622, 'grad_norm': 10.149894714355469, 'learning_rate': 1.2250509457248645e-05, 'epoch': 1.16}\n",
      "{'loss': 0.3601, 'grad_norm': 5.36098051071167, 'learning_rate': 1.2154836734498628e-05, 'epoch': 1.18}\n",
      "{'loss': 0.3604, 'grad_norm': 5.623742580413818, 'learning_rate': 1.2059164011748612e-05, 'epoch': 1.19}\n",
      "{'loss': 0.3586, 'grad_norm': 6.814432621002197, 'learning_rate': 1.1963491288998594e-05, 'epoch': 1.21}\n",
      "{'loss': 0.3597, 'grad_norm': 5.118480205535889, 'learning_rate': 1.1867818566248577e-05, 'epoch': 1.22}\n",
      "{'loss': 0.3603, 'grad_norm': 8.421844482421875, 'learning_rate': 1.1772145843498562e-05, 'epoch': 1.23}\n",
      "{'loss': 0.352, 'grad_norm': 8.055231094360352, 'learning_rate': 1.1676473120748543e-05, 'epoch': 1.25}\n",
      "{'loss': 0.3631, 'grad_norm': 2.853912591934204, 'learning_rate': 1.1580800397998528e-05, 'epoch': 1.26}\n",
      "{'loss': 0.3583, 'grad_norm': 5.921406269073486, 'learning_rate': 1.1485127675248511e-05, 'epoch': 1.28}\n",
      "{'loss': 0.3621, 'grad_norm': 7.269962787628174, 'learning_rate': 1.1389454952498492e-05, 'epoch': 1.29}\n",
      "{'loss': 0.3485, 'grad_norm': 8.692776679992676, 'learning_rate': 1.1293782229748477e-05, 'epoch': 1.31}\n",
      "{'loss': 0.3669, 'grad_norm': 7.327462673187256, 'learning_rate': 1.119810950699846e-05, 'epoch': 1.32}\n",
      "{'loss': 0.3595, 'grad_norm': 6.170141220092773, 'learning_rate': 1.1102436784248445e-05, 'epoch': 1.33}\n",
      "{'loss': 0.3591, 'grad_norm': 11.482535362243652, 'learning_rate': 1.1006764061498427e-05, 'epoch': 1.35}\n",
      "{'loss': 0.3577, 'grad_norm': 6.498619079589844, 'learning_rate': 1.091109133874841e-05, 'epoch': 1.36}\n",
      "{'loss': 0.3618, 'grad_norm': 2.229215383529663, 'learning_rate': 1.0815418615998394e-05, 'epoch': 1.38}\n",
      "{'loss': 0.3576, 'grad_norm': 5.3444342613220215, 'learning_rate': 1.0719745893248376e-05, 'epoch': 1.39}\n",
      "{'loss': 0.3486, 'grad_norm': 4.8697404861450195, 'learning_rate': 1.0624073170498359e-05, 'epoch': 1.41}\n",
      "{'loss': 0.3568, 'grad_norm': 17.372886657714844, 'learning_rate': 1.0528400447748344e-05, 'epoch': 1.42}\n",
      "{'loss': 0.3579, 'grad_norm': 5.319763660430908, 'learning_rate': 1.0432727724998327e-05, 'epoch': 1.44}\n",
      "{'loss': 0.3561, 'grad_norm': 2.4347639083862305, 'learning_rate': 1.033705500224831e-05, 'epoch': 1.45}\n",
      "{'loss': 0.3559, 'grad_norm': 8.261794090270996, 'learning_rate': 1.0241382279498293e-05, 'epoch': 1.46}\n",
      "{'loss': 0.3601, 'grad_norm': 8.015364646911621, 'learning_rate': 1.0145709556748276e-05, 'epoch': 1.48}\n",
      "{'loss': 0.3661, 'grad_norm': 6.610579490661621, 'learning_rate': 1.0050036833998261e-05, 'epoch': 1.49}\n",
      "{'loss': 0.3579, 'grad_norm': 8.328495979309082, 'learning_rate': 9.954364111248242e-06, 'epoch': 1.51}\n",
      "{'loss': 0.3615, 'grad_norm': 8.183374404907227, 'learning_rate': 9.858691388498225e-06, 'epoch': 1.52}\n",
      "{'loss': 0.366, 'grad_norm': 4.59416389465332, 'learning_rate': 9.76301866574821e-06, 'epoch': 1.54}\n",
      "{'loss': 0.3577, 'grad_norm': 9.38876724243164, 'learning_rate': 9.667345942998193e-06, 'epoch': 1.55}\n",
      "{'loss': 0.3479, 'grad_norm': 6.3761305809021, 'learning_rate': 9.571673220248175e-06, 'epoch': 1.56}\n",
      "{'loss': 0.3543, 'grad_norm': 5.5099711418151855, 'learning_rate': 9.47600049749816e-06, 'epoch': 1.58}\n",
      "{'loss': 0.3614, 'grad_norm': 6.334512233734131, 'learning_rate': 9.380327774748143e-06, 'epoch': 1.59}\n",
      "{'loss': 0.354, 'grad_norm': 4.934762954711914, 'learning_rate': 9.284655051998126e-06, 'epoch': 1.61}\n",
      "{'loss': 0.3486, 'grad_norm': 3.451327085494995, 'learning_rate': 9.188982329248109e-06, 'epoch': 1.62}\n",
      "{'loss': 0.3511, 'grad_norm': 4.085636615753174, 'learning_rate': 9.093309606498092e-06, 'epoch': 1.64}\n",
      "{'loss': 0.3537, 'grad_norm': 6.405206203460693, 'learning_rate': 8.997636883748075e-06, 'epoch': 1.65}\n",
      "{'loss': 0.3594, 'grad_norm': 8.616613388061523, 'learning_rate': 8.901964160998058e-06, 'epoch': 1.66}\n",
      "{'loss': 0.3584, 'grad_norm': 4.096039772033691, 'learning_rate': 8.806291438248041e-06, 'epoch': 1.68}\n",
      "{'loss': 0.3493, 'grad_norm': 3.6373291015625, 'learning_rate': 8.710618715498024e-06, 'epoch': 1.69}\n",
      "{'loss': 0.3585, 'grad_norm': 6.17992639541626, 'learning_rate': 8.614945992748009e-06, 'epoch': 1.71}\n",
      "{'loss': 0.3497, 'grad_norm': 6.011643409729004, 'learning_rate': 8.519273269997992e-06, 'epoch': 1.72}\n",
      "{'loss': 0.3567, 'grad_norm': 9.015268325805664, 'learning_rate': 8.423600547247974e-06, 'epoch': 1.74}\n",
      "{'loss': 0.3473, 'grad_norm': 5.363429069519043, 'learning_rate': 8.327927824497958e-06, 'epoch': 1.75}\n",
      "{'loss': 0.3497, 'grad_norm': 7.448888301849365, 'learning_rate': 8.232255101747942e-06, 'epoch': 1.77}\n",
      "{'loss': 0.3617, 'grad_norm': 8.21313190460205, 'learning_rate': 8.136582378997925e-06, 'epoch': 1.78}\n",
      "{'loss': 0.3518, 'grad_norm': 9.677512168884277, 'learning_rate': 8.040909656247908e-06, 'epoch': 1.79}\n",
      "{'loss': 0.3427, 'grad_norm': 9.042269706726074, 'learning_rate': 7.94523693349789e-06, 'epoch': 1.81}\n",
      "{'loss': 0.3529, 'grad_norm': 3.8488388061523438, 'learning_rate': 7.849564210747874e-06, 'epoch': 1.82}\n",
      "{'loss': 0.3532, 'grad_norm': 10.464720726013184, 'learning_rate': 7.753891487997857e-06, 'epoch': 1.84}\n",
      "{'loss': 0.3589, 'grad_norm': 6.009250640869141, 'learning_rate': 7.658218765247842e-06, 'epoch': 1.85}\n",
      "{'loss': 0.3564, 'grad_norm': 6.419306755065918, 'learning_rate': 7.562546042497823e-06, 'epoch': 1.87}\n",
      "{'loss': 0.3551, 'grad_norm': 4.66856050491333, 'learning_rate': 7.466873319747807e-06, 'epoch': 1.88}\n",
      "{'loss': 0.3585, 'grad_norm': 2.505399227142334, 'learning_rate': 7.37120059699779e-06, 'epoch': 1.89}\n",
      "{'loss': 0.3533, 'grad_norm': 7.45775842666626, 'learning_rate': 7.275527874247774e-06, 'epoch': 1.91}\n",
      "{'loss': 0.3472, 'grad_norm': 8.976598739624023, 'learning_rate': 7.1798551514977565e-06, 'epoch': 1.92}\n",
      "{'loss': 0.3585, 'grad_norm': 4.216618061065674, 'learning_rate': 7.0841824287477404e-06, 'epoch': 1.94}\n",
      "{'loss': 0.3521, 'grad_norm': 5.582470417022705, 'learning_rate': 6.9885097059977235e-06, 'epoch': 1.95}\n",
      "{'loss': 0.3492, 'grad_norm': 7.202997207641602, 'learning_rate': 6.8928369832477075e-06, 'epoch': 1.97}\n",
      "{'loss': 0.3616, 'grad_norm': 8.543289184570312, 'learning_rate': 6.79716426049769e-06, 'epoch': 1.98}\n",
      "{'loss': 0.3583, 'grad_norm': 9.631855964660645, 'learning_rate': 6.701491537747673e-06, 'epoch': 1.99}\n"
     ]
    },
    {
     "data": {
      "application/vnd.jupyter.widget-view+json": {
       "model_id": "7e271dfcf3654d03a42372f0f1a1d3c8",
       "version_major": 2,
       "version_minor": 0
      },
      "text/plain": [
       "  0%|          | 0/23228 [00:00<?, ?it/s]"
      ]
     },
     "metadata": {},
     "output_type": "display_data"
    },
    {
     "name": "stdout",
     "output_type": "stream",
     "text": [
      "{'eval_loss': 0.3735402524471283, 'eval_runtime': 640.5883, 'eval_samples_per_second': 580.151, 'eval_steps_per_second': 36.26, 'epoch': 2.0}\n",
      "{'loss': 0.3317, 'grad_norm': 11.275650024414062, 'learning_rate': 6.605818814997657e-06, 'epoch': 2.01}\n",
      "{'loss': 0.3168, 'grad_norm': 6.173707485198975, 'learning_rate': 6.51014609224764e-06, 'epoch': 2.02}\n",
      "{'loss': 0.3143, 'grad_norm': 15.49158000946045, 'learning_rate': 6.414473369497624e-06, 'epoch': 2.04}\n",
      "{'loss': 0.3181, 'grad_norm': 2.6150474548339844, 'learning_rate': 6.318800646747606e-06, 'epoch': 2.05}\n",
      "{'loss': 0.3213, 'grad_norm': 10.56812572479248, 'learning_rate': 6.223127923997589e-06, 'epoch': 2.07}\n",
      "{'loss': 0.3079, 'grad_norm': 8.948488235473633, 'learning_rate': 6.127455201247573e-06, 'epoch': 2.08}\n",
      "{'loss': 0.3138, 'grad_norm': 9.017119407653809, 'learning_rate': 6.031782478497556e-06, 'epoch': 2.1}\n",
      "{'loss': 0.3236, 'grad_norm': 7.776458263397217, 'learning_rate': 5.9361097557475385e-06, 'epoch': 2.11}\n",
      "{'loss': 0.3201, 'grad_norm': 2.6686253547668457, 'learning_rate': 5.8404370329975224e-06, 'epoch': 2.12}\n",
      "{'loss': 0.3143, 'grad_norm': 5.079075336456299, 'learning_rate': 5.7447643102475055e-06, 'epoch': 2.14}\n",
      "{'loss': 0.3152, 'grad_norm': 6.146696090698242, 'learning_rate': 5.6490915874974895e-06, 'epoch': 2.15}\n",
      "{'loss': 0.3171, 'grad_norm': 8.516730308532715, 'learning_rate': 5.553418864747472e-06, 'epoch': 2.17}\n",
      "{'loss': 0.3227, 'grad_norm': 6.991815567016602, 'learning_rate': 5.457746141997456e-06, 'epoch': 2.18}\n",
      "{'loss': 0.3203, 'grad_norm': 4.38908576965332, 'learning_rate': 5.362073419247439e-06, 'epoch': 2.2}\n",
      "{'loss': 0.3166, 'grad_norm': 7.297484874725342, 'learning_rate': 5.266400696497423e-06, 'epoch': 2.21}\n",
      "{'loss': 0.3219, 'grad_norm': 8.74540901184082, 'learning_rate': 5.170727973747405e-06, 'epoch': 2.22}\n",
      "{'loss': 0.3121, 'grad_norm': 7.353926181793213, 'learning_rate': 5.075055250997388e-06, 'epoch': 2.24}\n",
      "{'loss': 0.3208, 'grad_norm': 6.337869167327881, 'learning_rate': 4.979382528247372e-06, 'epoch': 2.25}\n",
      "{'loss': 0.3198, 'grad_norm': 8.678363800048828, 'learning_rate': 4.883709805497355e-06, 'epoch': 2.27}\n",
      "{'loss': 0.3144, 'grad_norm': 8.732877731323242, 'learning_rate': 4.788037082747338e-06, 'epoch': 2.28}\n",
      "{'loss': 0.3193, 'grad_norm': 7.362940311431885, 'learning_rate': 4.692364359997322e-06, 'epoch': 2.3}\n",
      "{'loss': 0.3244, 'grad_norm': 8.250222206115723, 'learning_rate': 4.596691637247304e-06, 'epoch': 2.31}\n",
      "{'loss': 0.315, 'grad_norm': 11.597563743591309, 'learning_rate': 4.501018914497288e-06, 'epoch': 2.32}\n",
      "{'loss': 0.323, 'grad_norm': 3.578474521636963, 'learning_rate': 4.4053461917472715e-06, 'epoch': 2.34}\n",
      "{'loss': 0.3143, 'grad_norm': 9.299920082092285, 'learning_rate': 4.3096734689972546e-06, 'epoch': 2.35}\n",
      "{'loss': 0.3169, 'grad_norm': 6.441738605499268, 'learning_rate': 4.214000746247238e-06, 'epoch': 2.37}\n",
      "{'loss': 0.322, 'grad_norm': 8.544443130493164, 'learning_rate': 4.118328023497221e-06, 'epoch': 2.38}\n",
      "{'loss': 0.3162, 'grad_norm': 7.761857032775879, 'learning_rate': 4.022655300747204e-06, 'epoch': 2.4}\n",
      "{'loss': 0.3175, 'grad_norm': 6.657644271850586, 'learning_rate': 3.926982577997188e-06, 'epoch': 2.41}\n",
      "{'loss': 0.3135, 'grad_norm': 5.545637130737305, 'learning_rate': 3.831309855247171e-06, 'epoch': 2.43}\n",
      "{'loss': 0.3154, 'grad_norm': 8.606487274169922, 'learning_rate': 3.735637132497154e-06, 'epoch': 2.44}\n",
      "{'loss': 0.3141, 'grad_norm': 4.267206192016602, 'learning_rate': 3.639964409747137e-06, 'epoch': 2.45}\n",
      "{'loss': 0.32, 'grad_norm': 4.349191188812256, 'learning_rate': 3.5442916869971206e-06, 'epoch': 2.47}\n",
      "{'loss': 0.3262, 'grad_norm': 8.398660659790039, 'learning_rate': 3.4486189642471033e-06, 'epoch': 2.48}\n",
      "{'loss': 0.3172, 'grad_norm': 15.651865005493164, 'learning_rate': 3.352946241497087e-06, 'epoch': 2.5}\n",
      "{'loss': 0.3146, 'grad_norm': 7.041769027709961, 'learning_rate': 3.2572735187470704e-06, 'epoch': 2.51}\n",
      "{'loss': 0.3183, 'grad_norm': 3.750579595565796, 'learning_rate': 3.1616007959970535e-06, 'epoch': 2.53}\n",
      "{'loss': 0.3116, 'grad_norm': 3.534780502319336, 'learning_rate': 3.065928073247037e-06, 'epoch': 2.54}\n",
      "{'loss': 0.3149, 'grad_norm': 4.954864025115967, 'learning_rate': 2.97025535049702e-06, 'epoch': 2.55}\n",
      "{'loss': 0.3196, 'grad_norm': 7.988473415374756, 'learning_rate': 2.8745826277470036e-06, 'epoch': 2.57}\n",
      "{'loss': 0.3221, 'grad_norm': 11.088210105895996, 'learning_rate': 2.7789099049969863e-06, 'epoch': 2.58}\n",
      "{'loss': 0.3072, 'grad_norm': 13.223477363586426, 'learning_rate': 2.68323718224697e-06, 'epoch': 2.6}\n",
      "{'loss': 0.3134, 'grad_norm': 7.216689586639404, 'learning_rate': 2.587564459496953e-06, 'epoch': 2.61}\n",
      "{'loss': 0.3184, 'grad_norm': 6.064877510070801, 'learning_rate': 2.4918917367469364e-06, 'epoch': 2.63}\n",
      "{'loss': 0.3204, 'grad_norm': 9.839751243591309, 'learning_rate': 2.3962190139969195e-06, 'epoch': 2.64}\n",
      "{'loss': 0.3178, 'grad_norm': 10.01557731628418, 'learning_rate': 2.300546291246903e-06, 'epoch': 2.65}\n",
      "{'loss': 0.3221, 'grad_norm': 3.420836925506592, 'learning_rate': 2.204873568496886e-06, 'epoch': 2.67}\n",
      "{'loss': 0.3171, 'grad_norm': 3.083336353302002, 'learning_rate': 2.1092008457468692e-06, 'epoch': 2.68}\n",
      "{'loss': 0.3109, 'grad_norm': 4.829348564147949, 'learning_rate': 2.0135281229968528e-06, 'epoch': 2.7}\n",
      "{'loss': 0.3153, 'grad_norm': 8.865333557128906, 'learning_rate': 1.917855400246836e-06, 'epoch': 2.71}\n",
      "{'loss': 0.3169, 'grad_norm': 6.305490493774414, 'learning_rate': 1.822182677496819e-06, 'epoch': 2.73}\n",
      "{'loss': 0.3186, 'grad_norm': 10.627299308776855, 'learning_rate': 1.7265099547468023e-06, 'epoch': 2.74}\n",
      "{'loss': 0.3139, 'grad_norm': 10.494878768920898, 'learning_rate': 1.6308372319967856e-06, 'epoch': 2.76}\n",
      "{'loss': 0.3143, 'grad_norm': 10.882305145263672, 'learning_rate': 1.5351645092467687e-06, 'epoch': 2.77}\n",
      "{'loss': 0.3196, 'grad_norm': 6.64213228225708, 'learning_rate': 1.439491786496752e-06, 'epoch': 2.78}\n",
      "{'loss': 0.3068, 'grad_norm': 7.386795997619629, 'learning_rate': 1.3438190637467353e-06, 'epoch': 2.8}\n",
      "{'loss': 0.3069, 'grad_norm': 8.252791404724121, 'learning_rate': 1.2481463409967186e-06, 'epoch': 2.81}\n",
      "{'loss': 0.2978, 'grad_norm': 10.9283447265625, 'learning_rate': 1.1524736182467017e-06, 'epoch': 2.83}\n",
      "{'loss': 0.3147, 'grad_norm': 9.224495887756348, 'learning_rate': 1.056800895496685e-06, 'epoch': 2.84}\n",
      "{'loss': 0.31, 'grad_norm': 11.384432792663574, 'learning_rate': 9.611281727466683e-07, 'epoch': 2.86}\n",
      "{'loss': 0.3175, 'grad_norm': 5.6618123054504395, 'learning_rate': 8.654554499966516e-07, 'epoch': 2.87}\n",
      "{'loss': 0.3115, 'grad_norm': 16.361623764038086, 'learning_rate': 7.697827272466348e-07, 'epoch': 2.88}\n",
      "{'loss': 0.3128, 'grad_norm': 7.890294551849365, 'learning_rate': 6.74110004496618e-07, 'epoch': 2.9}\n",
      "{'loss': 0.3079, 'grad_norm': 1.4985816478729248, 'learning_rate': 5.784372817466013e-07, 'epoch': 2.91}\n",
      "{'loss': 0.3188, 'grad_norm': 9.04077434539795, 'learning_rate': 4.827645589965845e-07, 'epoch': 2.93}\n",
      "{'loss': 0.324, 'grad_norm': 7.273374080657959, 'learning_rate': 3.8709183624656774e-07, 'epoch': 2.94}\n",
      "{'loss': 0.3111, 'grad_norm': 6.725558280944824, 'learning_rate': 2.91419113496551e-07, 'epoch': 2.96}\n",
      "{'loss': 0.317, 'grad_norm': 8.086895942687988, 'learning_rate': 1.9574639074653428e-07, 'epoch': 2.97}\n",
      "{'loss': 0.305, 'grad_norm': 8.274696350097656, 'learning_rate': 1.0007366799651752e-07, 'epoch': 2.98}\n",
      "{'loss': 0.302, 'grad_norm': 3.011955499649048, 'learning_rate': 4.40094524650077e-09, 'epoch': 3.0}\n"
     ]
    },
    {
     "data": {
      "application/vnd.jupyter.widget-view+json": {
       "model_id": "fab882b386914a1c9b4a756cc2ba0f71",
       "version_major": 2,
       "version_minor": 0
      },
      "text/plain": [
       "  0%|          | 0/23228 [00:00<?, ?it/s]"
      ]
     },
     "metadata": {},
     "output_type": "display_data"
    },
    {
     "name": "stdout",
     "output_type": "stream",
     "text": [
      "{'eval_loss': 0.386043518781662, 'eval_runtime': 626.2252, 'eval_samples_per_second': 593.457, 'eval_steps_per_second': 37.092, 'epoch': 3.0}\n",
      "{'train_runtime': 18808.6281, 'train_samples_per_second': 177.83, 'train_steps_per_second': 11.114, 'train_loss': 0.3632863544655242, 'epoch': 3.0}\n"
     ]
    },
    {
     "data": {
      "text/plain": [
       "TrainOutput(global_step=209046, training_loss=0.3632863544655242, metrics={'train_runtime': 18808.6281, 'train_samples_per_second': 177.83, 'train_steps_per_second': 11.114, 'train_loss': 0.3632863544655242, 'epoch': 3.0})"
      ]
     },
     "execution_count": 14,
     "metadata": {},
     "output_type": "execute_result"
    }
   ],
   "source": [
    "# Training setup\n",
    "\n",
    "training_args = TrainingArguments(\n",
    "    output_dir=\"./model_parameters\",\n",
    "    logging_dir=None,  # This will stop logs from being saved to a file\n",
    "    evaluation_strategy=\"epoch\",\n",
    "    save_strategy=\"no\",\n",
    "    learning_rate=2e-5,\n",
    "    per_device_train_batch_size=16,\n",
    "    per_device_eval_batch_size=16,\n",
    "    num_train_epochs=3,\n",
    "    weight_decay=0.01,\n",
    "    logging_steps=1000,\n",
    ")\n",
    "\n",
    "data_collator = DataCollatorWithPadding(tokenizer=tokenizer)\n",
    "\n",
    "trainer = Trainer(\n",
    "    model=model,\n",
    "    args=training_args,\n",
    "    train_dataset=train_df,\n",
    "    eval_dataset=test_df,\n",
    "    tokenizer=tokenizer,\n",
    "    data_collator=data_collator\n",
    "    )\n",
    "\n",
    "# Train the model\n",
    "trainer.train()"
   ]
  },
  {
   "cell_type": "code",
   "execution_count": null,
   "id": "64c76566",
   "metadata": {},
   "outputs": [
    {
     "data": {
      "text/plain": [
       "('tuned_model/metacritic_games_bert\\\\tokenizer_config.json',\n",
       " 'tuned_model/metacritic_games_bert\\\\special_tokens_map.json',\n",
       " 'tuned_model/metacritic_games_bert\\\\vocab.txt',\n",
       " 'tuned_model/metacritic_games_bert\\\\added_tokens.json')"
      ]
     },
     "execution_count": 15,
     "metadata": {},
     "output_type": "execute_result"
    }
   ],
   "source": [
    "# Save the tuned model and the tokenizer\n",
    "\n",
    "save_directory = \"tuned_model/metacritic_games_bert\" # Model directory for saving\n",
    "\n",
    "model.save_pretrained(save_directory)\n",
    "tokenizer.save_pretrained(save_directory)"
   ]
  },
  {
   "cell_type": "markdown",
   "id": "466a666b",
   "metadata": {},
   "source": [
    "### 3) Get Sentiments and Sentiment Scores"
   ]
  },
  {
   "cell_type": "code",
   "execution_count": null,
   "id": "9ac1e3cc",
   "metadata": {},
   "outputs": [],
   "source": [
    "# Load the tuned model\n",
    "\n",
    "model = BertForSequenceClassification.from_pretrained('tuned_model/metacritic_games_bert')\n",
    "model.to('cuda') # Use GPU\n",
    "tokenizer = BertTokenizer.from_pretrained('tuned_model/metacritic_games_bert', model_max_length=512)\n",
    "\n",
    "prediction_pipeline = TextClassificationPipeline(model=model, tokenizer=tokenizer, max_length=512, truncation=True, top_k=1, device=\"cuda\")"
   ]
  },
  {
   "cell_type": "code",
   "execution_count": null,
   "id": "b39a55f2",
   "metadata": {},
   "outputs": [
    {
     "data": {
      "text/plain": [
       "{0: 'LABEL_0', 1: 'LABEL_1', 2: 'LABEL_2'}"
      ]
     },
     "execution_count": 64,
     "metadata": {},
     "output_type": "execute_result"
    }
   ],
   "source": [
    "# Model labels\n",
    "model.config.id2label"
   ]
  },
  {
   "cell_type": "code",
   "execution_count": null,
   "id": "c0d3d7ad",
   "metadata": {},
   "outputs": [
    {
     "data": {
      "text/plain": [
       "{0: 'negative', 1: 'neutral', 2: 'positive'}"
      ]
     },
     "execution_count": 65,
     "metadata": {},
     "output_type": "execute_result"
    }
   ],
   "source": [
    "# Change label names to sentiments according to label settings earlier\n",
    "model.config.id2label[0] = \"negative\"\n",
    "model.config.id2label[1] = \"neutral\"\n",
    "model.config.id2label[2] = \"positive\"\n",
    "\n",
    "model.config.id2label"
   ]
  },
  {
   "cell_type": "code",
   "execution_count": null,
   "id": "db62682e",
   "metadata": {},
   "outputs": [],
   "source": [
    "# Function for predicting the input sizes longer than 512 \n",
    "\n",
    "def predict_long_text_gpu(text, tokenizer, model, max_length=512, stride=256, device=\"cuda\"):\n",
    "    model.to(device) # Use GPU\n",
    "    model.eval()\n",
    "\n",
    "    # Tokenize the full text first (no truncation)\n",
    "    tokens = tokenizer.encode(text, add_special_tokens=True)\n",
    "\n",
    "    # Manually split into overlapping chunks\n",
    "    chunks = []\n",
    "    start = 0\n",
    "    while start < len(tokens):\n",
    "        end = min(start + max_length, len(tokens))\n",
    "        chunk = tokens[start:end]\n",
    "        chunks.append(chunk)\n",
    "        if end == len(tokens):\n",
    "            break\n",
    "        start += stride\n",
    "\n",
    "    logits_list = []\n",
    "\n",
    "    for chunk in chunks:\n",
    "        # Pad chunk to max_length\n",
    "        padding_length = max_length - len(chunk)\n",
    "        input_ids = chunk + [tokenizer.pad_token_id] * padding_length\n",
    "        attention_mask = [1] * len(chunk) + [0] * padding_length\n",
    "\n",
    "        # Send to GPU\n",
    "        input_tensor = {\n",
    "            \"input_ids\": torch.tensor([input_ids], device=device),\n",
    "            \"attention_mask\": torch.tensor([attention_mask], device=device)\n",
    "        }\n",
    "\n",
    "        with torch.no_grad():\n",
    "            outputs = model(**input_tensor)\n",
    "            logits = outputs.logits\n",
    "            logits_list.append(logits)\n",
    "\n",
    "    # Aggregate logits (mean pooling across chunks)\n",
    "    final_logits = torch.stack(logits_list).mean(dim=0)\n",
    "    prediction = torch.nn.functional.softmax(final_logits, dim=-1)\n",
    "\n",
    "    return model.config.id2label[prediction.argmax().item()], max(prediction[0]).item()"
   ]
  },
  {
   "cell_type": "code",
   "execution_count": 69,
   "id": "85c30860",
   "metadata": {},
   "outputs": [],
   "source": [
    "# Sentiment prediction for input sizes higher than 512\n",
    "\n",
    "games_reviews[\"sentiment\"] = None\n",
    "games_reviews[\"sentiment_score\"] = None\n",
    "\n",
    "for ind in games_reviews[games_reviews[\"quote_cleaned\"].str.len() > 512].index:\n",
    "    \n",
    "    sentiment, score = predict_long_text_gpu(games_reviews.loc[ind, \"quote_cleaned\"], tokenizer, model)\n",
    "    games_reviews.loc[ind, \"sentiment\"] = sentiment\n",
    "    games_reviews.loc[ind, \"sentiment_score\"] = score"
   ]
  },
  {
   "cell_type": "code",
   "execution_count": 70,
   "id": "fd5e2911",
   "metadata": {},
   "outputs": [],
   "source": [
    "# Sentiment prediction for input sizes lower than 512\n",
    "\n",
    "sentiment_results_512 = prediction_pipeline(list(games_reviews[games_reviews[\"quote_cleaned\"].str.len() <= 512].loc[:, \"quote_cleaned\"]))\n",
    "for i, ind in enumerate(games_reviews[games_reviews[\"quote_cleaned\"].str.len() <= 512].index):\n",
    "\n",
    "\tgames_reviews.loc[ind, \"sentiment\"] = sentiment_results_512[i][0][\"label\"]\n",
    "\tgames_reviews.loc[ind, \"sentiment_score\"] = sentiment_results_512[i][0][\"score\"]"
   ]
  },
  {
   "cell_type": "code",
   "execution_count": 3,
   "id": "2397a6b8",
   "metadata": {},
   "outputs": [
    {
     "data": {
      "text/html": [
       "<div>\n",
       "<style scoped>\n",
       "    .dataframe tbody tr th:only-of-type {\n",
       "        vertical-align: middle;\n",
       "    }\n",
       "\n",
       "    .dataframe tbody tr th {\n",
       "        vertical-align: top;\n",
       "    }\n",
       "\n",
       "    .dataframe thead th {\n",
       "        text-align: right;\n",
       "    }\n",
       "</style>\n",
       "<table border=\"1\" class=\"dataframe\">\n",
       "  <thead>\n",
       "    <tr style=\"text-align: right;\">\n",
       "      <th></th>\n",
       "      <th>id</th>\n",
       "      <th>title</th>\n",
       "      <th>quote</th>\n",
       "      <th>score</th>\n",
       "      <th>date</th>\n",
       "      <th>platform</th>\n",
       "      <th>author</th>\n",
       "      <th>publicationName</th>\n",
       "      <th>review_type</th>\n",
       "      <th>language</th>\n",
       "      <th>labels</th>\n",
       "      <th>sentiment</th>\n",
       "      <th>sentiment_score</th>\n",
       "    </tr>\n",
       "  </thead>\n",
       "  <tbody>\n",
       "    <tr>\n",
       "      <th>337182</th>\n",
       "      <td>1300518492</td>\n",
       "      <td>Gran Turismo 7</td>\n",
       "      <td>Always online DRM. Microtransactions hidden du...</td>\n",
       "      <td>0.0</td>\n",
       "      <td>2022-03-21</td>\n",
       "      <td>PlayStation 5</td>\n",
       "      <td>MrTexaspete</td>\n",
       "      <td>NaN</td>\n",
       "      <td>user</td>\n",
       "      <td>en</td>\n",
       "      <td>0</td>\n",
       "      <td>negative</td>\n",
       "      <td>0.993914</td>\n",
       "    </tr>\n",
       "    <tr>\n",
       "      <th>1402886</th>\n",
       "      <td>1300145620</td>\n",
       "      <td>Dead Island: Riptide</td>\n",
       "      <td>If you’ve got several friends who loved the fi...</td>\n",
       "      <td>57.0</td>\n",
       "      <td>2013-04-23</td>\n",
       "      <td>PlayStation 3</td>\n",
       "      <td>NaN</td>\n",
       "      <td>PSX Extreme</td>\n",
       "      <td>critic</td>\n",
       "      <td>en</td>\n",
       "      <td>1</td>\n",
       "      <td>neutral</td>\n",
       "      <td>0.753367</td>\n",
       "    </tr>\n",
       "    <tr>\n",
       "      <th>1466508</th>\n",
       "      <td>1300599373</td>\n",
       "      <td>Jujutsu Kaisen: Cursed Clash</td>\n",
       "      <td>Insult to JJK fans. Never let them cook again....</td>\n",
       "      <td>30.0</td>\n",
       "      <td>2024-02-12</td>\n",
       "      <td>PlayStation 5</td>\n",
       "      <td>CrowzerVidia</td>\n",
       "      <td>NaN</td>\n",
       "      <td>user</td>\n",
       "      <td>en</td>\n",
       "      <td>0</td>\n",
       "      <td>negative</td>\n",
       "      <td>0.994562</td>\n",
       "    </tr>\n",
       "    <tr>\n",
       "      <th>1290062</th>\n",
       "      <td>1300412396</td>\n",
       "      <td>F1 2015</td>\n",
       "      <td>In my experience, setting the game to Pro and ...</td>\n",
       "      <td>72.0</td>\n",
       "      <td>2015-08-13</td>\n",
       "      <td>PlayStation 4</td>\n",
       "      <td>NaN</td>\n",
       "      <td>COGconnected</td>\n",
       "      <td>critic</td>\n",
       "      <td>en</td>\n",
       "      <td>2</td>\n",
       "      <td>positive</td>\n",
       "      <td>0.641356</td>\n",
       "    </tr>\n",
       "    <tr>\n",
       "      <th>167928</th>\n",
       "      <td>1300030490</td>\n",
       "      <td>God of War: Chains of Olympus</td>\n",
       "      <td>Overall, you'd be a damn idiot if you didn't p...</td>\n",
       "      <td>100.0</td>\n",
       "      <td>NaN</td>\n",
       "      <td>PSP</td>\n",
       "      <td>NaN</td>\n",
       "      <td>Modojo</td>\n",
       "      <td>critic</td>\n",
       "      <td>en</td>\n",
       "      <td>2</td>\n",
       "      <td>positive</td>\n",
       "      <td>0.751129</td>\n",
       "    </tr>\n",
       "  </tbody>\n",
       "</table>\n",
       "</div>"
      ],
      "text/plain": [
       "                 id                          title  \\\n",
       "337182   1300518492                 Gran Turismo 7   \n",
       "1402886  1300145620           Dead Island: Riptide   \n",
       "1466508  1300599373   Jujutsu Kaisen: Cursed Clash   \n",
       "1290062  1300412396                        F1 2015   \n",
       "167928   1300030490  God of War: Chains of Olympus   \n",
       "\n",
       "                                                     quote  score        date  \\\n",
       "337182   Always online DRM. Microtransactions hidden du...    0.0  2022-03-21   \n",
       "1402886  If you’ve got several friends who loved the fi...   57.0  2013-04-23   \n",
       "1466508  Insult to JJK fans. Never let them cook again....   30.0  2024-02-12   \n",
       "1290062  In my experience, setting the game to Pro and ...   72.0  2015-08-13   \n",
       "167928   Overall, you'd be a damn idiot if you didn't p...  100.0         NaN   \n",
       "\n",
       "              platform        author publicationName review_type language  \\\n",
       "337182   PlayStation 5   MrTexaspete             NaN        user       en   \n",
       "1402886  PlayStation 3           NaN     PSX Extreme      critic       en   \n",
       "1466508  PlayStation 5  CrowzerVidia             NaN        user       en   \n",
       "1290062  PlayStation 4           NaN    COGconnected      critic       en   \n",
       "167928             PSP           NaN          Modojo      critic       en   \n",
       "\n",
       "         labels sentiment  sentiment_score  \n",
       "337182        0  negative         0.993914  \n",
       "1402886       1   neutral         0.753367  \n",
       "1466508       0  negative         0.994562  \n",
       "1290062       2  positive         0.641356  \n",
       "167928        2  positive         0.751129  "
      ]
     },
     "execution_count": 3,
     "metadata": {},
     "output_type": "execute_result"
    }
   ],
   "source": [
    "games_reviews.sample(5)"
   ]
  },
  {
   "cell_type": "markdown",
   "id": "61024c16",
   "metadata": {},
   "source": [
    "### 4) Save the Sentimented Dataset"
   ]
  },
  {
   "cell_type": "code",
   "execution_count": null,
   "id": "08bff300",
   "metadata": {},
   "outputs": [],
   "source": [
    "# Drop cleaned text and save the sentimented dataset\n",
    "\n",
    "games_reviews.drop(columns=[\"quote_cleaned\"], inplace=True)\n",
    "games_reviews.to_csv(\"data/games_reviews_english_sentimented.csv\", index=False)"
   ]
  }
 ],
 "metadata": {
  "kernelspec": {
   "display_name": ".venv",
   "language": "python",
   "name": "python3"
  },
  "language_info": {
   "codemirror_mode": {
    "name": "ipython",
    "version": 3
   },
   "file_extension": ".py",
   "mimetype": "text/x-python",
   "name": "python",
   "nbconvert_exporter": "python",
   "pygments_lexer": "ipython3",
   "version": "3.12.6"
  }
 },
 "nbformat": 4,
 "nbformat_minor": 5
}
